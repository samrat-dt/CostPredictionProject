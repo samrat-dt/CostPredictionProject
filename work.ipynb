{
 "cells": [
  {
   "cell_type": "code",
   "execution_count": 6,
   "metadata": {},
   "outputs": [
    {
     "name": "stdout",
     "output_type": "stream",
     "text": [
      "Number of CPUs: 8\n"
     ]
    }
   ],
   "source": [
    "import multiprocessing\n",
    "\n",
    "# Get the number of CPUs\n",
    "num_cpus = multiprocessing.cpu_count()\n",
    "print(f'Number of CPUs: {num_cpus}')"
   ]
  },
  {
   "attachments": {},
   "cell_type": "markdown",
   "metadata": {},
   "source": [
    "### Dependencies ###"
   ]
  },
  {
   "cell_type": "code",
   "execution_count": 7,
   "metadata": {},
   "outputs": [],
   "source": [
    "import pandas as pd\n",
    "from sklearn.model_selection import train_test_split\n",
    "from sklearn.preprocessing import StandardScaler"
   ]
  },
  {
   "cell_type": "code",
   "execution_count": 8,
   "metadata": {},
   "outputs": [],
   "source": [
    "from sklearn.linear_model import LinearRegression\n",
    "from sklearn.tree import DecisionTreeRegressor\n",
    "from sklearn.ensemble import RandomForestRegressor, GradientBoostingRegressor\n",
    "from xgboost import XGBRegressor\n",
    "from sklearn.ensemble import AdaBoostRegressor\n",
    "from sklearn.neighbors import KNeighborsRegressor\n",
    "from sklearn.model_selection import GridSearchCV\n",
    "\n",
    "from sklearn.model_selection import cross_val_score\n",
    "from sklearn.metrics import mean_squared_log_error\n",
    "\n",
    "import numpy as np\n",
    "import matplotlib.pyplot as plt\n",
    "import seaborn as sns"
   ]
  },
  {
   "attachments": {},
   "cell_type": "markdown",
   "metadata": {},
   "source": [
    "### Data exploration and preprocessing ###"
   ]
  },
  {
   "cell_type": "code",
   "execution_count": 9,
   "metadata": {},
   "outputs": [
    {
     "data": {
      "text/html": [
       "<div>\n",
       "<style scoped>\n",
       "    .dataframe tbody tr th:only-of-type {\n",
       "        vertical-align: middle;\n",
       "    }\n",
       "\n",
       "    .dataframe tbody tr th {\n",
       "        vertical-align: top;\n",
       "    }\n",
       "\n",
       "    .dataframe thead th {\n",
       "        text-align: right;\n",
       "    }\n",
       "</style>\n",
       "<table border=\"1\" class=\"dataframe\">\n",
       "  <thead>\n",
       "    <tr style=\"text-align: right;\">\n",
       "      <th></th>\n",
       "      <th>id</th>\n",
       "      <th>store_sales(in millions)</th>\n",
       "      <th>unit_sales(in millions)</th>\n",
       "      <th>total_children</th>\n",
       "      <th>num_children_at_home</th>\n",
       "      <th>avg_cars_at home(approx).1</th>\n",
       "      <th>gross_weight</th>\n",
       "      <th>recyclable_package</th>\n",
       "      <th>low_fat</th>\n",
       "      <th>units_per_case</th>\n",
       "      <th>store_sqft</th>\n",
       "      <th>coffee_bar</th>\n",
       "      <th>video_store</th>\n",
       "      <th>salad_bar</th>\n",
       "      <th>prepared_food</th>\n",
       "      <th>florist</th>\n",
       "      <th>cost</th>\n",
       "    </tr>\n",
       "  </thead>\n",
       "  <tbody>\n",
       "    <tr>\n",
       "      <th>0</th>\n",
       "      <td>0</td>\n",
       "      <td>8.61</td>\n",
       "      <td>3.0</td>\n",
       "      <td>2.0</td>\n",
       "      <td>2.0</td>\n",
       "      <td>2.0</td>\n",
       "      <td>10.30</td>\n",
       "      <td>1.0</td>\n",
       "      <td>0.0</td>\n",
       "      <td>32.0</td>\n",
       "      <td>36509.0</td>\n",
       "      <td>0.0</td>\n",
       "      <td>0.0</td>\n",
       "      <td>0.0</td>\n",
       "      <td>0.0</td>\n",
       "      <td>0.0</td>\n",
       "      <td>62.09</td>\n",
       "    </tr>\n",
       "    <tr>\n",
       "      <th>1</th>\n",
       "      <td>1</td>\n",
       "      <td>5.00</td>\n",
       "      <td>2.0</td>\n",
       "      <td>4.0</td>\n",
       "      <td>0.0</td>\n",
       "      <td>3.0</td>\n",
       "      <td>6.66</td>\n",
       "      <td>1.0</td>\n",
       "      <td>0.0</td>\n",
       "      <td>1.0</td>\n",
       "      <td>28206.0</td>\n",
       "      <td>1.0</td>\n",
       "      <td>0.0</td>\n",
       "      <td>0.0</td>\n",
       "      <td>0.0</td>\n",
       "      <td>0.0</td>\n",
       "      <td>121.80</td>\n",
       "    </tr>\n",
       "    <tr>\n",
       "      <th>2</th>\n",
       "      <td>2</td>\n",
       "      <td>14.08</td>\n",
       "      <td>4.0</td>\n",
       "      <td>0.0</td>\n",
       "      <td>0.0</td>\n",
       "      <td>3.0</td>\n",
       "      <td>21.30</td>\n",
       "      <td>1.0</td>\n",
       "      <td>0.0</td>\n",
       "      <td>26.0</td>\n",
       "      <td>21215.0</td>\n",
       "      <td>1.0</td>\n",
       "      <td>0.0</td>\n",
       "      <td>0.0</td>\n",
       "      <td>0.0</td>\n",
       "      <td>0.0</td>\n",
       "      <td>83.51</td>\n",
       "    </tr>\n",
       "    <tr>\n",
       "      <th>3</th>\n",
       "      <td>3</td>\n",
       "      <td>4.02</td>\n",
       "      <td>3.0</td>\n",
       "      <td>5.0</td>\n",
       "      <td>0.0</td>\n",
       "      <td>0.0</td>\n",
       "      <td>14.80</td>\n",
       "      <td>0.0</td>\n",
       "      <td>1.0</td>\n",
       "      <td>36.0</td>\n",
       "      <td>21215.0</td>\n",
       "      <td>1.0</td>\n",
       "      <td>0.0</td>\n",
       "      <td>0.0</td>\n",
       "      <td>0.0</td>\n",
       "      <td>0.0</td>\n",
       "      <td>66.78</td>\n",
       "    </tr>\n",
       "    <tr>\n",
       "      <th>4</th>\n",
       "      <td>4</td>\n",
       "      <td>2.13</td>\n",
       "      <td>3.0</td>\n",
       "      <td>5.0</td>\n",
       "      <td>0.0</td>\n",
       "      <td>3.0</td>\n",
       "      <td>17.00</td>\n",
       "      <td>1.0</td>\n",
       "      <td>1.0</td>\n",
       "      <td>20.0</td>\n",
       "      <td>27694.0</td>\n",
       "      <td>1.0</td>\n",
       "      <td>1.0</td>\n",
       "      <td>1.0</td>\n",
       "      <td>1.0</td>\n",
       "      <td>1.0</td>\n",
       "      <td>111.51</td>\n",
       "    </tr>\n",
       "  </tbody>\n",
       "</table>\n",
       "</div>"
      ],
      "text/plain": [
       "   id  store_sales(in millions)  unit_sales(in millions)  total_children  \\\n",
       "0   0                      8.61                      3.0             2.0   \n",
       "1   1                      5.00                      2.0             4.0   \n",
       "2   2                     14.08                      4.0             0.0   \n",
       "3   3                      4.02                      3.0             5.0   \n",
       "4   4                      2.13                      3.0             5.0   \n",
       "\n",
       "   num_children_at_home  avg_cars_at home(approx).1  gross_weight  \\\n",
       "0                   2.0                         2.0         10.30   \n",
       "1                   0.0                         3.0          6.66   \n",
       "2                   0.0                         3.0         21.30   \n",
       "3                   0.0                         0.0         14.80   \n",
       "4                   0.0                         3.0         17.00   \n",
       "\n",
       "   recyclable_package  low_fat  units_per_case  store_sqft  coffee_bar  \\\n",
       "0                 1.0      0.0            32.0     36509.0         0.0   \n",
       "1                 1.0      0.0             1.0     28206.0         1.0   \n",
       "2                 1.0      0.0            26.0     21215.0         1.0   \n",
       "3                 0.0      1.0            36.0     21215.0         1.0   \n",
       "4                 1.0      1.0            20.0     27694.0         1.0   \n",
       "\n",
       "   video_store  salad_bar  prepared_food  florist    cost  \n",
       "0          0.0        0.0            0.0      0.0   62.09  \n",
       "1          0.0        0.0            0.0      0.0  121.80  \n",
       "2          0.0        0.0            0.0      0.0   83.51  \n",
       "3          0.0        0.0            0.0      0.0   66.78  \n",
       "4          1.0        1.0            1.0      1.0  111.51  "
      ]
     },
     "execution_count": 9,
     "metadata": {},
     "output_type": "execute_result"
    }
   ],
   "source": [
    "train = pd.read_csv('Data/train.csv')\n",
    "test = pd.read_csv('Data/test.csv')\n",
    "\n",
    "train.head()"
   ]
  },
  {
   "cell_type": "code",
   "execution_count": 10,
   "metadata": {},
   "outputs": [
    {
     "name": "stdout",
     "output_type": "stream",
     "text": [
      "<class 'pandas.core.frame.DataFrame'>\n",
      "RangeIndex: 360336 entries, 0 to 360335\n",
      "Data columns (total 17 columns):\n",
      " #   Column                      Non-Null Count   Dtype  \n",
      "---  ------                      --------------   -----  \n",
      " 0   id                          360336 non-null  int64  \n",
      " 1   store_sales(in millions)    360336 non-null  float64\n",
      " 2   unit_sales(in millions)     360336 non-null  float64\n",
      " 3   total_children              360336 non-null  float64\n",
      " 4   num_children_at_home        360336 non-null  float64\n",
      " 5   avg_cars_at home(approx).1  360336 non-null  float64\n",
      " 6   gross_weight                360336 non-null  float64\n",
      " 7   recyclable_package          360336 non-null  float64\n",
      " 8   low_fat                     360336 non-null  float64\n",
      " 9   units_per_case              360336 non-null  float64\n",
      " 10  store_sqft                  360336 non-null  float64\n",
      " 11  coffee_bar                  360336 non-null  float64\n",
      " 12  video_store                 360336 non-null  float64\n",
      " 13  salad_bar                   360336 non-null  float64\n",
      " 14  prepared_food               360336 non-null  float64\n",
      " 15  florist                     360336 non-null  float64\n",
      " 16  cost                        360336 non-null  float64\n",
      "dtypes: float64(16), int64(1)\n",
      "memory usage: 46.7 MB\n"
     ]
    }
   ],
   "source": [
    "train.info()"
   ]
  },
  {
   "cell_type": "code",
   "execution_count": 11,
   "metadata": {},
   "outputs": [
    {
     "data": {
      "text/html": [
       "<div>\n",
       "<style scoped>\n",
       "    .dataframe tbody tr th:only-of-type {\n",
       "        vertical-align: middle;\n",
       "    }\n",
       "\n",
       "    .dataframe tbody tr th {\n",
       "        vertical-align: top;\n",
       "    }\n",
       "\n",
       "    .dataframe thead th {\n",
       "        text-align: right;\n",
       "    }\n",
       "</style>\n",
       "<table border=\"1\" class=\"dataframe\">\n",
       "  <thead>\n",
       "    <tr style=\"text-align: right;\">\n",
       "      <th></th>\n",
       "      <th>id</th>\n",
       "      <th>store_sales(in millions)</th>\n",
       "      <th>unit_sales(in millions)</th>\n",
       "      <th>total_children</th>\n",
       "      <th>num_children_at_home</th>\n",
       "      <th>avg_cars_at home(approx).1</th>\n",
       "      <th>gross_weight</th>\n",
       "      <th>recyclable_package</th>\n",
       "      <th>low_fat</th>\n",
       "      <th>units_per_case</th>\n",
       "      <th>store_sqft</th>\n",
       "      <th>coffee_bar</th>\n",
       "      <th>video_store</th>\n",
       "      <th>salad_bar</th>\n",
       "      <th>prepared_food</th>\n",
       "      <th>florist</th>\n",
       "      <th>cost</th>\n",
       "    </tr>\n",
       "  </thead>\n",
       "  <tbody>\n",
       "    <tr>\n",
       "      <th>count</th>\n",
       "      <td>360336.000000</td>\n",
       "      <td>360336.000000</td>\n",
       "      <td>360336.000000</td>\n",
       "      <td>360336.000000</td>\n",
       "      <td>360336.000000</td>\n",
       "      <td>360336.000000</td>\n",
       "      <td>360336.000000</td>\n",
       "      <td>360336.000000</td>\n",
       "      <td>360336.000000</td>\n",
       "      <td>360336.000000</td>\n",
       "      <td>360336.000000</td>\n",
       "      <td>360336.000000</td>\n",
       "      <td>360336.000000</td>\n",
       "      <td>360336.000000</td>\n",
       "      <td>360336.000000</td>\n",
       "      <td>360336.000000</td>\n",
       "      <td>360336.000000</td>\n",
       "    </tr>\n",
       "    <tr>\n",
       "      <th>mean</th>\n",
       "      <td>180167.500000</td>\n",
       "      <td>6.337376</td>\n",
       "      <td>3.043881</td>\n",
       "      <td>2.456482</td>\n",
       "      <td>0.689390</td>\n",
       "      <td>2.203813</td>\n",
       "      <td>13.822071</td>\n",
       "      <td>0.568086</td>\n",
       "      <td>0.327797</td>\n",
       "      <td>18.972706</td>\n",
       "      <td>28180.333442</td>\n",
       "      <td>0.564839</td>\n",
       "      <td>0.277394</td>\n",
       "      <td>0.504807</td>\n",
       "      <td>0.504832</td>\n",
       "      <td>0.503191</td>\n",
       "      <td>99.614729</td>\n",
       "    </tr>\n",
       "    <tr>\n",
       "      <th>std</th>\n",
       "      <td>104020.187637</td>\n",
       "      <td>3.307980</td>\n",
       "      <td>0.784676</td>\n",
       "      <td>1.488992</td>\n",
       "      <td>1.214732</td>\n",
       "      <td>1.084293</td>\n",
       "      <td>4.614792</td>\n",
       "      <td>0.495343</td>\n",
       "      <td>0.469411</td>\n",
       "      <td>10.212912</td>\n",
       "      <td>5968.874074</td>\n",
       "      <td>0.495779</td>\n",
       "      <td>0.447713</td>\n",
       "      <td>0.499978</td>\n",
       "      <td>0.499977</td>\n",
       "      <td>0.499991</td>\n",
       "      <td>29.939435</td>\n",
       "    </tr>\n",
       "    <tr>\n",
       "      <th>min</th>\n",
       "      <td>0.000000</td>\n",
       "      <td>0.510000</td>\n",
       "      <td>1.000000</td>\n",
       "      <td>0.000000</td>\n",
       "      <td>0.000000</td>\n",
       "      <td>0.000000</td>\n",
       "      <td>6.000000</td>\n",
       "      <td>0.000000</td>\n",
       "      <td>0.000000</td>\n",
       "      <td>1.000000</td>\n",
       "      <td>20319.000000</td>\n",
       "      <td>0.000000</td>\n",
       "      <td>0.000000</td>\n",
       "      <td>0.000000</td>\n",
       "      <td>0.000000</td>\n",
       "      <td>0.000000</td>\n",
       "      <td>50.790000</td>\n",
       "    </tr>\n",
       "    <tr>\n",
       "      <th>25%</th>\n",
       "      <td>90083.750000</td>\n",
       "      <td>3.720000</td>\n",
       "      <td>3.000000</td>\n",
       "      <td>1.000000</td>\n",
       "      <td>0.000000</td>\n",
       "      <td>1.000000</td>\n",
       "      <td>9.710000</td>\n",
       "      <td>0.000000</td>\n",
       "      <td>0.000000</td>\n",
       "      <td>10.000000</td>\n",
       "      <td>23593.000000</td>\n",
       "      <td>0.000000</td>\n",
       "      <td>0.000000</td>\n",
       "      <td>0.000000</td>\n",
       "      <td>0.000000</td>\n",
       "      <td>0.000000</td>\n",
       "      <td>70.320000</td>\n",
       "    </tr>\n",
       "    <tr>\n",
       "      <th>50%</th>\n",
       "      <td>180167.500000</td>\n",
       "      <td>5.780000</td>\n",
       "      <td>3.000000</td>\n",
       "      <td>2.000000</td>\n",
       "      <td>0.000000</td>\n",
       "      <td>2.000000</td>\n",
       "      <td>13.600000</td>\n",
       "      <td>1.000000</td>\n",
       "      <td>0.000000</td>\n",
       "      <td>20.000000</td>\n",
       "      <td>27694.000000</td>\n",
       "      <td>1.000000</td>\n",
       "      <td>0.000000</td>\n",
       "      <td>1.000000</td>\n",
       "      <td>1.000000</td>\n",
       "      <td>1.000000</td>\n",
       "      <td>98.810000</td>\n",
       "    </tr>\n",
       "    <tr>\n",
       "      <th>75%</th>\n",
       "      <td>270251.250000</td>\n",
       "      <td>8.400000</td>\n",
       "      <td>4.000000</td>\n",
       "      <td>4.000000</td>\n",
       "      <td>1.000000</td>\n",
       "      <td>3.000000</td>\n",
       "      <td>17.700000</td>\n",
       "      <td>1.000000</td>\n",
       "      <td>1.000000</td>\n",
       "      <td>28.000000</td>\n",
       "      <td>33858.000000</td>\n",
       "      <td>1.000000</td>\n",
       "      <td>1.000000</td>\n",
       "      <td>1.000000</td>\n",
       "      <td>1.000000</td>\n",
       "      <td>1.000000</td>\n",
       "      <td>126.620000</td>\n",
       "    </tr>\n",
       "    <tr>\n",
       "      <th>max</th>\n",
       "      <td>360335.000000</td>\n",
       "      <td>22.920000</td>\n",
       "      <td>6.000000</td>\n",
       "      <td>5.000000</td>\n",
       "      <td>5.000000</td>\n",
       "      <td>4.000000</td>\n",
       "      <td>21.900000</td>\n",
       "      <td>1.000000</td>\n",
       "      <td>1.000000</td>\n",
       "      <td>36.000000</td>\n",
       "      <td>39696.000000</td>\n",
       "      <td>1.000000</td>\n",
       "      <td>1.000000</td>\n",
       "      <td>1.000000</td>\n",
       "      <td>1.000000</td>\n",
       "      <td>1.000000</td>\n",
       "      <td>149.750000</td>\n",
       "    </tr>\n",
       "  </tbody>\n",
       "</table>\n",
       "</div>"
      ],
      "text/plain": [
       "                  id  store_sales(in millions)  unit_sales(in millions)  \\\n",
       "count  360336.000000             360336.000000            360336.000000   \n",
       "mean   180167.500000                  6.337376                 3.043881   \n",
       "std    104020.187637                  3.307980                 0.784676   \n",
       "min         0.000000                  0.510000                 1.000000   \n",
       "25%     90083.750000                  3.720000                 3.000000   \n",
       "50%    180167.500000                  5.780000                 3.000000   \n",
       "75%    270251.250000                  8.400000                 4.000000   \n",
       "max    360335.000000                 22.920000                 6.000000   \n",
       "\n",
       "       total_children  num_children_at_home  avg_cars_at home(approx).1  \\\n",
       "count   360336.000000         360336.000000               360336.000000   \n",
       "mean         2.456482              0.689390                    2.203813   \n",
       "std          1.488992              1.214732                    1.084293   \n",
       "min          0.000000              0.000000                    0.000000   \n",
       "25%          1.000000              0.000000                    1.000000   \n",
       "50%          2.000000              0.000000                    2.000000   \n",
       "75%          4.000000              1.000000                    3.000000   \n",
       "max          5.000000              5.000000                    4.000000   \n",
       "\n",
       "        gross_weight  recyclable_package        low_fat  units_per_case  \\\n",
       "count  360336.000000       360336.000000  360336.000000   360336.000000   \n",
       "mean       13.822071            0.568086       0.327797       18.972706   \n",
       "std         4.614792            0.495343       0.469411       10.212912   \n",
       "min         6.000000            0.000000       0.000000        1.000000   \n",
       "25%         9.710000            0.000000       0.000000       10.000000   \n",
       "50%        13.600000            1.000000       0.000000       20.000000   \n",
       "75%        17.700000            1.000000       1.000000       28.000000   \n",
       "max        21.900000            1.000000       1.000000       36.000000   \n",
       "\n",
       "          store_sqft     coffee_bar    video_store      salad_bar  \\\n",
       "count  360336.000000  360336.000000  360336.000000  360336.000000   \n",
       "mean    28180.333442       0.564839       0.277394       0.504807   \n",
       "std      5968.874074       0.495779       0.447713       0.499978   \n",
       "min     20319.000000       0.000000       0.000000       0.000000   \n",
       "25%     23593.000000       0.000000       0.000000       0.000000   \n",
       "50%     27694.000000       1.000000       0.000000       1.000000   \n",
       "75%     33858.000000       1.000000       1.000000       1.000000   \n",
       "max     39696.000000       1.000000       1.000000       1.000000   \n",
       "\n",
       "       prepared_food        florist           cost  \n",
       "count  360336.000000  360336.000000  360336.000000  \n",
       "mean        0.504832       0.503191      99.614729  \n",
       "std         0.499977       0.499991      29.939435  \n",
       "min         0.000000       0.000000      50.790000  \n",
       "25%         0.000000       0.000000      70.320000  \n",
       "50%         1.000000       1.000000      98.810000  \n",
       "75%         1.000000       1.000000     126.620000  \n",
       "max         1.000000       1.000000     149.750000  "
      ]
     },
     "execution_count": 11,
     "metadata": {},
     "output_type": "execute_result"
    }
   ],
   "source": [
    "train.describe()"
   ]
  },
  {
   "cell_type": "code",
   "execution_count": 12,
   "metadata": {},
   "outputs": [
    {
     "data": {
      "text/plain": [
       "id                            0\n",
       "store_sales(in millions)      0\n",
       "unit_sales(in millions)       0\n",
       "total_children                0\n",
       "num_children_at_home          0\n",
       "avg_cars_at home(approx).1    0\n",
       "gross_weight                  0\n",
       "recyclable_package            0\n",
       "low_fat                       0\n",
       "units_per_case                0\n",
       "store_sqft                    0\n",
       "coffee_bar                    0\n",
       "video_store                   0\n",
       "salad_bar                     0\n",
       "prepared_food                 0\n",
       "florist                       0\n",
       "cost                          0\n",
       "dtype: int64"
      ]
     },
     "execution_count": 12,
     "metadata": {},
     "output_type": "execute_result"
    }
   ],
   "source": [
    "train.isnull().sum()"
   ]
  },
  {
   "cell_type": "code",
   "execution_count": 13,
   "metadata": {},
   "outputs": [],
   "source": [
    "X = train.drop(columns=['id', 'cost'])\n",
    "y = train['cost']"
   ]
  },
  {
   "cell_type": "code",
   "execution_count": 14,
   "metadata": {},
   "outputs": [],
   "source": [
    "# Normalize the data\n",
    "scaler = StandardScaler()\n",
    "X_scaled = scaler.fit_transform(X)\n",
    "test_scaled = scaler.transform(test.drop(columns=['id']))"
   ]
  },
  {
   "attachments": {},
   "cell_type": "markdown",
   "metadata": {},
   "source": [
    "### Model training and evaluation ###"
   ]
  },
  {
   "cell_type": "code",
   "execution_count": 15,
   "metadata": {},
   "outputs": [],
   "source": [
    "# Define the models\n",
    "models = [\n",
    "    ('Linear Regression', LinearRegression()),\n",
    "    ('Decision Tree', DecisionTreeRegressor(random_state=42)),\n",
    "    ('Random Forest', RandomForestRegressor(random_state=42)),\n",
    "    ('Gradient Boosting', GradientBoostingRegressor(random_state=42)),\n",
    "    ('XGBoost', XGBRegressor(random_state=42))\n",
    "]"
   ]
  },
  {
   "cell_type": "code",
   "execution_count": 16,
   "metadata": {},
   "outputs": [],
   "source": [
    "# Create a function for RMSLE (for cross validation)\n",
    "def rmsle(y_true, y_pred):\n",
    "    return np.sqrt(mean_squared_log_error(y_true, y_pred))"
   ]
  },
  {
   "cell_type": "code",
   "execution_count": 17,
   "metadata": {},
   "outputs": [
    {
     "name": "stdout",
     "output_type": "stream",
     "text": [
      "Linear Regression - Mean RMSLE: 0.31694, Std: 0.00072\n",
      "Decision Tree - Mean RMSLE: 0.41964, Std: 0.00070\n",
      "Random Forest - Mean RMSLE: 0.30952, Std: 0.00045\n",
      "Gradient Boosting - Mean RMSLE: 0.30880, Std: 0.00082\n",
      "XGBoost - Mean RMSLE: 0.30230, Std: 0.00072\n"
     ]
    }
   ],
   "source": [
    "# Train and evaluate the models\n",
    "results = []\n",
    "\n",
    "for name, model in models:\n",
    "    # Train and evaluate the model using cross-validation\n",
    "    scores = -cross_val_score(model, X_scaled, y, cv=5, scoring='neg_mean_squared_log_error', n_jobs=-1)\n",
    "    rmsle_scores = np.sqrt(scores)\n",
    "    \n",
    "    # Print the results\n",
    "    print(f'{name} - Mean RMSLE: {rmsle_scores.mean():.5f}, Std: {rmsle_scores.std():.5f}')\n",
    "    \n",
    "    # Save the results\n",
    "    results.append((name, rmsle_scores))"
   ]
  },
  {
   "cell_type": "code",
   "execution_count": 20,
   "metadata": {},
   "outputs": [
    {
     "name": "stdout",
     "output_type": "stream",
     "text": [
      "AdaBoost - Mean RMSLE: 0.31297, Std: 0.00068\n"
     ]
    }
   ],
   "source": [
    "models.append(('AdaBoost', AdaBoostRegressor(random_state=42)))\n",
    "\n",
    "# Train and evaluate the new models\n",
    "for name, model in models[-1:]:\n",
    "    # Train and evaluate the model using cross-validation\n",
    "    scores = -cross_val_score(model, X_scaled, y, cv=5, scoring='neg_mean_squared_log_error', n_jobs=-1)\n",
    "    rmsle_scores = np.sqrt(scores)\n",
    "    \n",
    "    # Print the results\n",
    "    print(f'{name} - Mean RMSLE: {rmsle_scores.mean():.5f}, Std: {rmsle_scores.std():.5f}')\n",
    "    \n",
    "    # Save the results\n",
    "    results.append((name, rmsle_scores))"
   ]
  },
  {
   "cell_type": "code",
   "execution_count": 27,
   "metadata": {},
   "outputs": [],
   "source": [
    "model_eval_results['Mean RMSLE'] = model_eval_results['RMSLE Scores'].apply(lambda x: x.mean())\n",
    "model_eval_results['Std RMSLE'] = model_eval_results['RMSLE Scores'].apply(lambda x: x.std())\n",
    "\n",
    "# drop duplicates and sort by mean RMSLE\n",
    "model_eval_results = model_eval_results.drop_duplicates(subset=['Model']).sort_values(by='Mean RMSLE')\n",
    "\n",
    "# fix the index\n",
    "model_eval_results.reset_index(drop=True, inplace=True)\n",
    "\n",
    "# save the results\n",
    "model_eval_results.to_csv('model_eval_results.csv', index=False)"
   ]
  },
  {
   "cell_type": "code",
   "execution_count": 31,
   "metadata": {},
   "outputs": [
    {
     "data": {
      "text/html": [
       "<div>\n",
       "<style scoped>\n",
       "    .dataframe tbody tr th:only-of-type {\n",
       "        vertical-align: middle;\n",
       "    }\n",
       "\n",
       "    .dataframe tbody tr th {\n",
       "        vertical-align: top;\n",
       "    }\n",
       "\n",
       "    .dataframe thead th {\n",
       "        text-align: right;\n",
       "    }\n",
       "</style>\n",
       "<table border=\"1\" class=\"dataframe\">\n",
       "  <thead>\n",
       "    <tr style=\"text-align: right;\">\n",
       "      <th></th>\n",
       "      <th>Model</th>\n",
       "      <th>Mean RMSLE</th>\n",
       "      <th>Std RMSLE</th>\n",
       "    </tr>\n",
       "  </thead>\n",
       "  <tbody>\n",
       "    <tr>\n",
       "      <th>0</th>\n",
       "      <td>XGBoost</td>\n",
       "      <td>0.302298</td>\n",
       "      <td>0.000721</td>\n",
       "    </tr>\n",
       "    <tr>\n",
       "      <th>1</th>\n",
       "      <td>Gradient Boosting</td>\n",
       "      <td>0.308795</td>\n",
       "      <td>0.000819</td>\n",
       "    </tr>\n",
       "    <tr>\n",
       "      <th>2</th>\n",
       "      <td>Random Forest</td>\n",
       "      <td>0.309515</td>\n",
       "      <td>0.000452</td>\n",
       "    </tr>\n",
       "    <tr>\n",
       "      <th>3</th>\n",
       "      <td>AdaBoost</td>\n",
       "      <td>0.312967</td>\n",
       "      <td>0.000678</td>\n",
       "    </tr>\n",
       "    <tr>\n",
       "      <th>4</th>\n",
       "      <td>Linear Regression</td>\n",
       "      <td>0.316943</td>\n",
       "      <td>0.000724</td>\n",
       "    </tr>\n",
       "    <tr>\n",
       "      <th>5</th>\n",
       "      <td>Decision Tree</td>\n",
       "      <td>0.419641</td>\n",
       "      <td>0.000702</td>\n",
       "    </tr>\n",
       "  </tbody>\n",
       "</table>\n",
       "</div>"
      ],
      "text/plain": [
       "               Model  Mean RMSLE  Std RMSLE\n",
       "0            XGBoost    0.302298   0.000721\n",
       "1  Gradient Boosting    0.308795   0.000819\n",
       "2      Random Forest    0.309515   0.000452\n",
       "3           AdaBoost    0.312967   0.000678\n",
       "4  Linear Regression    0.316943   0.000724\n",
       "5      Decision Tree    0.419641   0.000702"
      ]
     },
     "execution_count": 31,
     "metadata": {},
     "output_type": "execute_result"
    }
   ],
   "source": [
    "model_eval_results[['Model', 'Mean RMSLE', 'Std RMSLE']]"
   ]
  },
  {
   "cell_type": "code",
   "execution_count": 29,
   "metadata": {},
   "outputs": [
    {
     "data": {
      "image/png": "[encoded data removed]",
      "text/plain": [
       "<Figure size 1000x600 with 1 Axes>"
      ]
     },
     "metadata": {},
     "output_type": "display_data"
    },
    {
     "data": {
      "image/png": "[encoded data removed]",
      "text/plain": [
       "<Figure size 1000x600 with 1 Axes>"
      ]
     },
     "metadata": {},
     "output_type": "display_data"
    }
   ],
   "source": [
    "plt.figure(figsize=(10, 6))\n",
    "sns.barplot(x='Model', y='Mean RMSLE', data=model_eval_results, palette='viridis')\n",
    "plt.xticks(rotation=45)\n",
    "plt.title('Mean RMSLE scores by model')\n",
    "plt.show()\n",
    "\n",
    "plt.figure(figsize=(10, 6))\n",
    "sns.boxplot(x='Model', y='RMSLE Scores', data=model_eval_results.explode('RMSLE Scores'), palette='viridis')\n",
    "plt.xticks(rotation=45)\n",
    "plt.title('RMSLE score distribution by model')\n",
    "plt.show()"
   ]
  },
  {
   "cell_type": "code",
   "execution_count": 30,
   "metadata": {},
   "outputs": [
    {
     "data": {
      "image/png": "[encoded data removed]",
      "text/plain": [
       "<Figure size 1200x600 with 1 Axes>"
      ]
     },
     "metadata": {},
     "output_type": "display_data"
    }
   ],
   "source": [
    "import matplotlib.ticker as mticker\n",
    "\n",
    "model_eval_results['Accuracy'] = 100 - (model_eval_results['Mean RMSLE'] * 100)\n",
    "\n",
    "sns.set_style(\"whitegrid\")\n",
    "sns.set_palette(\"muted\")\n",
    "\n",
    "plt.figure(figsize=(12, 6))\n",
    "accuracy_plot = sns.barplot(x='Model', y='Accuracy', data=model_eval_results)\n",
    "plt.xticks(rotation=45)\n",
    "plt.title('Model Accuracy Comparison', fontsize=18, fontweight='bold')\n",
    "plt.xlabel('Model', fontsize=14)\n",
    "plt.ylabel('Accuracy (%)', fontsize=14)\n",
    "\n",
    "# Add percentage values on top of each bar\n",
    "for p in accuracy_plot.patches:\n",
    "    accuracy_plot.annotate(f'{p.get_height():.2f}%', (p.get_x() + p.get_width() / 2., p.get_height()),\n",
    "                            ha='center', va='baseline', fontsize=12, color='black', xytext=(0, 5),\n",
    "                            textcoords='offset points')\n",
    "\n",
    "# Customize the y-axis ticks to show percentage\n",
    "accuracy_plot.yaxis.set_major_formatter(mticker.PercentFormatter())\n",
    "\n",
    "# Add additional gridlines for easier reading\n",
    "accuracy_plot.yaxis.grid(True, linestyle='--', which='both', linewidth=0.7, alpha=0.7)\n",
    "\n",
    "# Remove the borders on the top and right side\n",
    "sns.despine(top=True, right=True, left=False, bottom=False)\n",
    "\n",
    "# Save the chart as an image file\n",
    "plt.savefig('model_accuracy_comparison.png', dpi=300, bbox_inches='tight')\n",
    "\n",
    "# Display the chart\n",
    "plt.show()\n"
   ]
  },
  {
   "attachments": {},
   "cell_type": "markdown",
   "metadata": {},
   "source": [
    "### Model selection and reasoning ###"
   ]
  },
  {
   "attachments": {},
   "cell_type": "markdown",
   "metadata": {},
   "source": [
    "Based on the provided scores, I would recommend going with the XGBoost model, as it has the lowest Mean RMSLE score of 0.302298. This means that, on average, the XGBoost model has the best performance in terms of the Root Mean Squared Log Error metric when compared to the other models. Additionally, the standard deviation of the RMSLE scores is relatively low (0.000721), indicating that the XGBoost model performs consistently across different validation sets."
   ]
  },
  {
   "attachments": {},
   "cell_type": "markdown",
   "metadata": {},
   "source": [
    "To further improve the performance of the models, several strategies can be considered:\n",
    "\n",
    "1. Hyperparameter tuning: Perform a grid search or randomized search to find the optimal set of hyperparameters for the XGBoost and Gradient Boosting models. This process could potentially lead to better performance by fine-tuning the models for the specific problem at hand.\n",
    "\n",
    "2. Feature engineering: Investigate if there are any additional features that can be derived from the existing dataset or if any of the existing features can be transformed to better capture the relationships within the data.\n",
    "\n",
    "3. Feature selection: Analyze the feature importances of the models and remove any features that have low importance, as they may not contribute much to the prediction and may even introduce noise.\n",
    "\n",
    "4. Ensembling: Combine the predictions of multiple models, such as XGBoost and Gradient Boosting, to create a more robust prediction. This can be achieved through methods like stacking or averaging the predictions of individual models.\n",
    "\n",
    "5. Synthesized data: If the dataset is small, generating additional synthetic data through techniques like SMOTE or bootstrapping could help improve the models' performance."
   ]
  },
  {
   "attachments": {},
   "cell_type": "markdown",
   "metadata": {},
   "source": [
    "### Get predictions ###"
   ]
  },
  {
   "cell_type": "code",
   "execution_count": 34,
   "metadata": {},
   "outputs": [
    {
     "name": "stdout",
     "output_type": "stream",
     "text": [
      "Selected model: Linear Regression\n"
     ]
    }
   ],
   "source": [
    "import pickle\n",
    "\n",
    "# Select the best model (XGBoost) from the model_eval_results DataFrame\n",
    "best_model_name, best_model = models[model_eval_results['Mean RMSLE'].idxmin()]\n",
    "\n",
    "print(f\"Selected model: {best_model_name}\")\n",
    "\n",
    "# Train the best model on the entire training dataset\n",
    "best_model.fit(X_scaled, y)\n",
    "\n",
    "# Make predictions on the test dataset using the best model\n",
    "test_predictions = best_model.predict(test_scaled)\n",
    "\n",
    "# Ensure all predicted values are positive\n",
    "test_predictions = np.clip(test_predictions, 0, None)\n",
    "\n",
    "# Create a submission file in the required format (id, cost)\n",
    "submission = pd.DataFrame({\"id\": test[\"id\"], \"cost\": test_predictions})\n",
    "submission.to_csv(\"submission.csv\", index=False)\n",
    "\n",
    "# Save the XGBoost model as a pickle file\n",
    "with open(\"xgboost_model.pkl\", \"wb\") as f:\n",
    "    pickle.dump(best_model, f)"
   ]
  },
  {
   "cell_type": "code",
   "execution_count": 35,
   "metadata": {},
   "outputs": [
    {
     "data": {
      "text/html": [
       "<div>\n",
       "<style scoped>\n",
       "    .dataframe tbody tr th:only-of-type {\n",
       "        vertical-align: middle;\n",
       "    }\n",
       "\n",
       "    .dataframe tbody tr th {\n",
       "        vertical-align: top;\n",
       "    }\n",
       "\n",
       "    .dataframe thead th {\n",
       "        text-align: right;\n",
       "    }\n",
       "</style>\n",
       "<table border=\"1\" class=\"dataframe\">\n",
       "  <thead>\n",
       "    <tr style=\"text-align: right;\">\n",
       "      <th></th>\n",
       "      <th>id</th>\n",
       "      <th>cost</th>\n",
       "    </tr>\n",
       "  </thead>\n",
       "  <tbody>\n",
       "    <tr>\n",
       "      <th>0</th>\n",
       "      <td>360336</td>\n",
       "      <td>104.724609</td>\n",
       "    </tr>\n",
       "    <tr>\n",
       "      <th>1</th>\n",
       "      <td>360337</td>\n",
       "      <td>98.724370</td>\n",
       "    </tr>\n",
       "    <tr>\n",
       "      <th>2</th>\n",
       "      <td>360338</td>\n",
       "      <td>100.920314</td>\n",
       "    </tr>\n",
       "    <tr>\n",
       "      <th>3</th>\n",
       "      <td>360339</td>\n",
       "      <td>95.616146</td>\n",
       "    </tr>\n",
       "    <tr>\n",
       "      <th>4</th>\n",
       "      <td>360340</td>\n",
       "      <td>94.330404</td>\n",
       "    </tr>\n",
       "  </tbody>\n",
       "</table>\n",
       "</div>"
      ],
      "text/plain": [
       "       id        cost\n",
       "0  360336  104.724609\n",
       "1  360337   98.724370\n",
       "2  360338  100.920314\n",
       "3  360339   95.616146\n",
       "4  360340   94.330404"
      ]
     },
     "execution_count": 35,
     "metadata": {},
     "output_type": "execute_result"
    }
   ],
   "source": [
    "submission.head()"
   ]
  },
  {
   "cell_type": "code",
   "execution_count": 37,
   "metadata": {},
   "outputs": [],
   "source": [
    "# Save the scaler as a pickle file\n",
    "with open(\"scaler.pkl\", \"wb\") as f:\n",
    "    pickle.dump(scaler, f)"
   ]
  },
  {
   "cell_type": "code",
   "execution_count": 38,
   "metadata": {},
   "outputs": [
    {
     "name": "stdout",
     "output_type": "stream",
     "text": [
      "Collecting pipreqs\n",
      "  Downloading pipreqs-0.4.11-py2.py3-none-any.whl (32 kB)\n",
      "Collecting docopt\n",
      "  Using cached docopt-0.6.2.tar.gz (25 kB)\n",
      "  Preparing metadata (setup.py): started\n",
      "  Preparing metadata (setup.py): finished with status 'done'\n",
      "Collecting yarg\n",
      "  Downloading yarg-0.1.9-py2.py3-none-any.whl (19 kB)\n",
      "Requirement already satisfied: requests in d:\\github projects\\kaggle cost prediction\\.venv\\lib\\site-packages (from yarg->pipreqs) (2.28.2)\n",
      "Requirement already satisfied: charset-normalizer<4,>=2 in d:\\github projects\\kaggle cost prediction\\.venv\\lib\\site-packages (from requests->yarg->pipreqs) (3.1.0)\n",
      "Requirement already satisfied: idna<4,>=2.5 in d:\\github projects\\kaggle cost prediction\\.venv\\lib\\site-packages (from requests->yarg->pipreqs) (3.4)\n",
      "Requirement already satisfied: urllib3<1.27,>=1.21.1 in d:\\github projects\\kaggle cost prediction\\.venv\\lib\\site-packages (from requests->yarg->pipreqs) (1.26.15)\n",
      "Requirement already satisfied: certifi>=2017.4.17 in d:\\github projects\\kaggle cost prediction\\.venv\\lib\\site-packages (from requests->yarg->pipreqs) (2022.12.7)\n",
      "Installing collected packages: docopt, yarg, pipreqs\n",
      "  Running setup.py install for docopt: started\n",
      "  Running setup.py install for docopt: finished with status 'done'\n",
      "Successfully installed docopt-0.6.2 pipreqs-0.4.11 yarg-0.1.9\n"
     ]
    },
    {
     "name": "stderr",
     "output_type": "stream",
     "text": [
      "  DEPRECATION: docopt is being installed using the legacy 'setup.py install' method, because it does not have a 'pyproject.toml' and the 'wheel' package is not installed. pip 23.1 will enforce this behaviour change. A possible replacement is to enable the '--use-pep517' option. Discussion can be found at https://github.com/pypa/pip/issues/8559\n"
     ]
    }
   ],
   "source": [
    "!pip install pipreqs"
   ]
  },
  {
   "cell_type": "code",
   "execution_count": 43,
   "metadata": {},
   "outputs": [
    {
     "name": "stdout",
     "output_type": "stream",
     "text": [
      "Note: you may need to restart the kernel to use updated packages.\n"
     ]
    }
   ],
   "source": [
    "pip freeze > requirements.txt"
   ]
  },
  {
   "cell_type": "markdown",
   "metadata": {},
   "source": []
  }
 ],
 "metadata": {
  "kernelspec": {
   "display_name": ".venv",
   "language": "python",
   "name": "python3"
  },
  "language_info": {
   "codemirror_mode": {
    "name": "ipython",
    "version": 3
   },
   "file_extension": ".py",
   "mimetype": "text/x-python",
   "name": "python",
   "nbconvert_exporter": "python",
   "pygments_lexer": "ipython3",
   "version": "3.11.2"
  },
  "orig_nbformat": 4
 },
 "nbformat": 4,
 "nbformat_minor": 2
}
